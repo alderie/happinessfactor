{
 "metadata": {
  "language_info": {
   "codemirror_mode": {
    "name": "ipython",
    "version": 3
   },
   "file_extension": ".py",
   "mimetype": "text/x-python",
   "name": "python",
   "nbconvert_exporter": "python",
   "pygments_lexer": "ipython3",
   "version": "3.9.5"
  },
  "orig_nbformat": 2,
  "kernelspec": {
   "name": "python395jvsc74a57bd03c8b7b56fac898fa2c9cb41fa8d96eaa5f080fd160aa731ed4860c69661540c5",
   "display_name": "Python 3.9.4 64-bit (windows store)"
  },
  "metadata": {
   "interpreter": {
    "hash": "3c8b7b56fac898fa2c9cb41fa8d96eaa5f080fd160aa731ed4860c69661540c5"
   }
  }
 },
 "nbformat": 4,
 "nbformat_minor": 2,
 "cells": [
  {
   "source": [
    "# Finding the Happiness Factor\n",
    "For our CMSC320 class our team did exploratory analysis on the World Happiness Report for 2021 and the World Development Indicators to determine what development factors best correspond with increased happiness across the globe\n",
    "- Project by Victor Novichkov, Jacob Livchitz\n",
    "\n",
    "### Downloading the datasets\n",
    "- Need to have Python installed\n",
    "- Recommended to install the kaggle pip library\n",
    "    - ```pip install kaggle```\n",
    "- Copy the commands listed under the datasets\n",
    "\n",
    "### Datasets Used\n",
    "[World Development Indicators - World Bank](https://datacatalog.worldbank.org/dataset/world-development-indicators) (~200MB at time of writing)\n",
    "- How to download\n",
    "    - Go to the **Data & Resources** tab\n",
    "    - Download the **CSV**\n",
    "\n",
    "[World Happiness Report 2021 - Ajaypal Singh](https://www.kaggle.com/ajaypalsinghlo/world-happiness-report-2021) (155KB at time of writing)\n",
    "- How to download\n",
    "    - ```kaggle datasets download -d ajaypalsinghlo/world-happiness-report-2021```\n"
   ],
   "cell_type": "markdown",
   "metadata": {}
  },
  {
   "source": [
    "## Looking at the Happiest Countries"
   ],
   "cell_type": "markdown",
   "metadata": {}
  },
  {
   "cell_type": "code",
   "execution_count": 126,
   "metadata": {},
   "outputs": [
    {
     "output_type": "stream",
     "name": "stdout",
     "text": [
      "Total Countries with Indices: 166\n"
     ]
    }
   ],
   "source": [
    "import pandas as pd\n",
    "import numpy as np\n",
    "import matplotlib.pyplot as plt\n",
    "\n",
    "\n",
    "whr_path = './world-happiness-index/whr.csv'\n",
    "wdi_path = './world-development-index/WDIData_trimmed_n.csv'\n",
    "\n",
    "whr_data = pd.read_csv(whr_path)\n",
    "simplified_whr_data = whr_data[['Country Name', 'Life Ladder', 'Year']] # get just the name / score / and year\n",
    "\n",
    "countries = pd.unique(simplified_whr_data['Country Name'])\n",
    "print(\"Total Countries with Indices: {}\".format(len(countries)))\n",
    "\n",
    "wdi_data = pd.read_csv(wdi_path, index_col=0)"
   ]
  },
  {
   "cell_type": "code",
   "execution_count": 127,
   "metadata": {},
   "outputs": [
    {
     "output_type": "stream",
     "name": "stdout",
     "text": [
      "1455    2006\n1456    2008\n1457    2009\n1458    2011\n1459    2012\n1460    2013\n1461    2014\n1462    2015\n1463    2016\n1464    2017\n1465    2018\n1466    2019\nName: Year, dtype: int64\n"
     ]
    }
   ],
   "source": [
    "print(simplified_whr_data[simplified_whr_data['Country Name'] == 'Rwanda']['Year'])"
   ]
  },
  {
   "source": [
    "## Dealing with Too Much Data\n",
    "Although the World Bank dataset is amazing, its size is a bit too much for Github to even accept. In order to be able to collaborate we had to cut how much data we were working with. Luckily, there were a couple methods we could use to cut our dataset in half without drastically influencing our analysis\n",
    "- Get rid of countries in the World Development Index data that don't have corresponding happiness indices\n",
    "- Get rid of majority NaN/Null datapoints (we won't be looking at them in our analysis)\n",
    "    - Note: The World Happiness Index started in 2012, which means most of the data in the World Development Index going back to 1960 isn't entirely relevant. As a result we can look for rows that have at least 20 non null entries (1990-2020)."
   ],
   "cell_type": "markdown",
   "metadata": {}
  },
  {
   "source": [
    "```python\n",
    "# Creating the truncated dataset\n",
    "wdi_data = pd.read_csv(wdi_path)\n",
    "\n",
    "# First by removing countries that don't have indices\n",
    "boolean_mask = wdi_data['Country Name'].isin(countries)\n",
    "wdi_cleaned = wdi_data[boolean_mask]\n",
    "print(\"% of dataset trimmed: {0:.4f}\".format((1 - (len(wdi_cleaned)/len(wdi_data)))*100))\n",
    "\n",
    "# Remove all data from 1960 - 1999 (Most of the data from before the the Happiness Index even existed)\n",
    "wdi_pre_drop = len(wdi_cleaned.columns)\n",
    "wdi_cleaned.drop(axis=1, labels=wdi_cleaned.columns[4:44], inplace=True)\n",
    "print(\"% of dataset trimmed: {0:.4f}\".format((1 - (wdi_pre_drop/len(wdi_cleaned.columns)))*100))\n",
    "\n",
    "# Get rid of all rows that have less than 8 datapoints over the time period from (2000-2020)\n",
    "pre_dropna = len(wdi_cleaned)\n",
    "wdi_cleaned.dropna(axis=0, thresh=8, inplace=True)\n",
    "print(\"% of dataset trimmed: {0:.4f}\".format((1 - (len(wdi_cleaned)/pre_dropna)) * 100))\n",
    "\n",
    "# wdi_cleaned.to_csv('./world-development-index/WDIData_trimmed_n.csv')\n",
    "```"
   ],
   "cell_type": "markdown",
   "metadata": {}
  },
  {
   "source": [
    "Since the original dataset could not be uploaded. We can't show the comparison live\n",
    "\n",
    "But we were able to trim 44.7% of the data just by removing countries without Happiness Indices\n",
    "\n",
    "And trim a further 45.45% of the data by removing the datapoints from (1960 - 1989), leaving only 1990-2020\n",
    "\n",
    "And trim an additional 15.99% of the data, dropping our final file size to ~ 27 MB"
   ],
   "cell_type": "markdown",
   "metadata": {}
  },
  {
   "cell_type": "code",
   "execution_count": 128,
   "metadata": {},
   "outputs": [
    {
     "output_type": "stream",
     "name": "stdout",
     "text": [
      "        Country Name Country Code  Year  indicator_value  Life Ladder\n0          Australia          AUS  2005           100.00        7.341\n1            Belgium          BEL  2005           100.00        7.262\n2             Brazil          BRA  2005            91.04        6.637\n3             Canada          CAN  2005           100.00        7.418\n4     Czech Republic          CZE  2005            95.65        6.439\n...              ...          ...   ...              ...          ...\n1685  United Kingdom          GBR  2020              NaN        6.798\n1686   United States          USA  2020              NaN        7.028\n1687         Uruguay          URY  2020              NaN        6.310\n1688          Zambia          ZMB  2020              NaN        4.838\n1689        Zimbabwe          ZWE  2020              NaN        3.160\n\n[1690 rows x 5 columns]\n"
     ]
    }
   ],
   "source": [
    "sample_code = \"EG.CFT.ACCS.ZS\"\n",
    "\n",
    "# Gets Country Name, Country Code, Year, Indicator Value, Score\n",
    "def getAllForIndicator(df, hi, indicator_code):\n",
    "    \n",
    "    countries = df[df['Indicator Code'] == indicator_code].copy()\n",
    "    countries.drop(axis=1, labels=['Indicator Name', 'Indicator Code'], inplace=True)\n",
    "    countries = pd.melt(countries, id_vars=['Country Name', 'Country Code'], var_name='Year', value_name='indicator_value')\n",
    "    countries = countries.astype({'Year': np.int64})\n",
    "\n",
    "    return countries.merge(hi, how='inner', on=['Country Name', 'Year'])\n",
    "\n",
    "\n",
    "print(combined)\n"
   ]
  },
  {
   "source": [
    "#When one thinks of happiness they think of money. Lets first graph the WHR dataset's graph of national income per capita vs happiness\n",
    "ipc_code = \"EG.CFT.ACCS.ZS\"\n",
    "incomePerCap=getAllForIndicator(wdi_data, simplified_whr_data, ipc_code)\n",
    "ax=incomePerCap.plot.scatter(x='Life Ladder',xlabel='Life Ladder',y='indicator_value',ylabel='income per capita',rot=90,color='b',title='year vs income per cap.')\n",
    "x=incomePerCap['Life Ladder'].fillna(value=0)\n",
    "y=incomePerCap['indicator_value'].fillna(value=0)\n",
    "#z=np.polyfit(x,y,3)\n",
    "\n",
    "print(len(incomePerCap['Life Ladder']))\n",
    "print(len(incomePerCap['Year']))\n",
    "plt.violinplot(incomePerCap['Life Ladder'].astype(float),incomePerCap['Year'].astype(float),widths=4,showmeans=True)\n",
    "#plt.plot(x,z[0],'-')\n",
    "#print(z)"
   ],
   "cell_type": "code",
   "metadata": {
    "tags": []
   },
   "execution_count": 129,
   "outputs": [
    {
     "output_type": "stream",
     "name": "stdout",
     "text": [
      "1690\n1690\n"
     ]
    },
    {
     "output_type": "error",
     "ename": "ValueError",
     "evalue": "List of violinplot statistics and `positions` values must have the same length",
     "traceback": [
      "\u001b[1;31m---------------------------------------------------------------------------\u001b[0m",
      "\u001b[1;31mValueError\u001b[0m                                Traceback (most recent call last)",
      "\u001b[1;32m<ipython-input-129-ddcd394c5965>\u001b[0m in \u001b[0;36m<module>\u001b[1;34m\u001b[0m\n\u001b[0;32m      9\u001b[0m \u001b[0mprint\u001b[0m\u001b[1;33m(\u001b[0m\u001b[0mlen\u001b[0m\u001b[1;33m(\u001b[0m\u001b[0mincomePerCap\u001b[0m\u001b[1;33m[\u001b[0m\u001b[1;34m'Life Ladder'\u001b[0m\u001b[1;33m]\u001b[0m\u001b[1;33m)\u001b[0m\u001b[1;33m)\u001b[0m\u001b[1;33m\u001b[0m\u001b[1;33m\u001b[0m\u001b[0m\n\u001b[0;32m     10\u001b[0m \u001b[0mprint\u001b[0m\u001b[1;33m(\u001b[0m\u001b[0mlen\u001b[0m\u001b[1;33m(\u001b[0m\u001b[0mincomePerCap\u001b[0m\u001b[1;33m[\u001b[0m\u001b[1;34m'Year'\u001b[0m\u001b[1;33m]\u001b[0m\u001b[1;33m)\u001b[0m\u001b[1;33m)\u001b[0m\u001b[1;33m\u001b[0m\u001b[1;33m\u001b[0m\u001b[0m\n\u001b[1;32m---> 11\u001b[1;33m \u001b[0mplt\u001b[0m\u001b[1;33m.\u001b[0m\u001b[0mviolinplot\u001b[0m\u001b[1;33m(\u001b[0m\u001b[0mincomePerCap\u001b[0m\u001b[1;33m[\u001b[0m\u001b[1;34m'Life Ladder'\u001b[0m\u001b[1;33m]\u001b[0m\u001b[1;33m.\u001b[0m\u001b[0mastype\u001b[0m\u001b[1;33m(\u001b[0m\u001b[0mfloat\u001b[0m\u001b[1;33m)\u001b[0m\u001b[1;33m,\u001b[0m\u001b[0mincomePerCap\u001b[0m\u001b[1;33m[\u001b[0m\u001b[1;34m'Year'\u001b[0m\u001b[1;33m]\u001b[0m\u001b[1;33m.\u001b[0m\u001b[0mastype\u001b[0m\u001b[1;33m(\u001b[0m\u001b[0mfloat\u001b[0m\u001b[1;33m)\u001b[0m\u001b[1;33m,\u001b[0m\u001b[0mwidths\u001b[0m\u001b[1;33m=\u001b[0m\u001b[1;36m4\u001b[0m\u001b[1;33m,\u001b[0m\u001b[0mshowmeans\u001b[0m\u001b[1;33m=\u001b[0m\u001b[1;32mTrue\u001b[0m\u001b[1;33m)\u001b[0m\u001b[1;33m\u001b[0m\u001b[1;33m\u001b[0m\u001b[0m\n\u001b[0m\u001b[0;32m     12\u001b[0m \u001b[1;31m#plt.plot(x,z[0],'-')\u001b[0m\u001b[1;33m\u001b[0m\u001b[1;33m\u001b[0m\u001b[1;33m\u001b[0m\u001b[0m\n\u001b[0;32m     13\u001b[0m \u001b[1;31m#print(z)\u001b[0m\u001b[1;33m\u001b[0m\u001b[1;33m\u001b[0m\u001b[1;33m\u001b[0m\u001b[0m\n",
      "\u001b[1;32m~\\AppData\\Local\\Packages\\PythonSoftwareFoundation.Python.3.9_qbz5n2kfra8p0\\LocalCache\\local-packages\\Python39\\site-packages\\matplotlib\\pyplot.py\u001b[0m in \u001b[0;36mviolinplot\u001b[1;34m(dataset, positions, vert, widths, showmeans, showextrema, showmedians, quantiles, points, bw_method, data)\u001b[0m\n\u001b[0;32m   3067\u001b[0m         \u001b[0mshowmeans\u001b[0m\u001b[1;33m=\u001b[0m\u001b[1;32mFalse\u001b[0m\u001b[1;33m,\u001b[0m \u001b[0mshowextrema\u001b[0m\u001b[1;33m=\u001b[0m\u001b[1;32mTrue\u001b[0m\u001b[1;33m,\u001b[0m \u001b[0mshowmedians\u001b[0m\u001b[1;33m=\u001b[0m\u001b[1;32mFalse\u001b[0m\u001b[1;33m,\u001b[0m\u001b[1;33m\u001b[0m\u001b[1;33m\u001b[0m\u001b[0m\n\u001b[0;32m   3068\u001b[0m         quantiles=None, points=100, bw_method=None, *, data=None):\n\u001b[1;32m-> 3069\u001b[1;33m     return gca().violinplot(\n\u001b[0m\u001b[0;32m   3070\u001b[0m         \u001b[0mdataset\u001b[0m\u001b[1;33m,\u001b[0m \u001b[0mpositions\u001b[0m\u001b[1;33m=\u001b[0m\u001b[0mpositions\u001b[0m\u001b[1;33m,\u001b[0m \u001b[0mvert\u001b[0m\u001b[1;33m=\u001b[0m\u001b[0mvert\u001b[0m\u001b[1;33m,\u001b[0m \u001b[0mwidths\u001b[0m\u001b[1;33m=\u001b[0m\u001b[0mwidths\u001b[0m\u001b[1;33m,\u001b[0m\u001b[1;33m\u001b[0m\u001b[1;33m\u001b[0m\u001b[0m\n\u001b[0;32m   3071\u001b[0m         \u001b[0mshowmeans\u001b[0m\u001b[1;33m=\u001b[0m\u001b[0mshowmeans\u001b[0m\u001b[1;33m,\u001b[0m \u001b[0mshowextrema\u001b[0m\u001b[1;33m=\u001b[0m\u001b[0mshowextrema\u001b[0m\u001b[1;33m,\u001b[0m\u001b[1;33m\u001b[0m\u001b[1;33m\u001b[0m\u001b[0m\n",
      "\u001b[1;32m~\\AppData\\Local\\Packages\\PythonSoftwareFoundation.Python.3.9_qbz5n2kfra8p0\\LocalCache\\local-packages\\Python39\\site-packages\\matplotlib\\__init__.py\u001b[0m in \u001b[0;36minner\u001b[1;34m(ax, data, *args, **kwargs)\u001b[0m\n\u001b[0;32m   1445\u001b[0m     \u001b[1;32mdef\u001b[0m \u001b[0minner\u001b[0m\u001b[1;33m(\u001b[0m\u001b[0max\u001b[0m\u001b[1;33m,\u001b[0m \u001b[1;33m*\u001b[0m\u001b[0margs\u001b[0m\u001b[1;33m,\u001b[0m \u001b[0mdata\u001b[0m\u001b[1;33m=\u001b[0m\u001b[1;32mNone\u001b[0m\u001b[1;33m,\u001b[0m \u001b[1;33m**\u001b[0m\u001b[0mkwargs\u001b[0m\u001b[1;33m)\u001b[0m\u001b[1;33m:\u001b[0m\u001b[1;33m\u001b[0m\u001b[1;33m\u001b[0m\u001b[0m\n\u001b[0;32m   1446\u001b[0m         \u001b[1;32mif\u001b[0m \u001b[0mdata\u001b[0m \u001b[1;32mis\u001b[0m \u001b[1;32mNone\u001b[0m\u001b[1;33m:\u001b[0m\u001b[1;33m\u001b[0m\u001b[1;33m\u001b[0m\u001b[0m\n\u001b[1;32m-> 1447\u001b[1;33m             \u001b[1;32mreturn\u001b[0m \u001b[0mfunc\u001b[0m\u001b[1;33m(\u001b[0m\u001b[0max\u001b[0m\u001b[1;33m,\u001b[0m \u001b[1;33m*\u001b[0m\u001b[0mmap\u001b[0m\u001b[1;33m(\u001b[0m\u001b[0msanitize_sequence\u001b[0m\u001b[1;33m,\u001b[0m \u001b[0margs\u001b[0m\u001b[1;33m)\u001b[0m\u001b[1;33m,\u001b[0m \u001b[1;33m**\u001b[0m\u001b[0mkwargs\u001b[0m\u001b[1;33m)\u001b[0m\u001b[1;33m\u001b[0m\u001b[1;33m\u001b[0m\u001b[0m\n\u001b[0m\u001b[0;32m   1448\u001b[0m \u001b[1;33m\u001b[0m\u001b[0m\n\u001b[0;32m   1449\u001b[0m         \u001b[0mbound\u001b[0m \u001b[1;33m=\u001b[0m \u001b[0mnew_sig\u001b[0m\u001b[1;33m.\u001b[0m\u001b[0mbind\u001b[0m\u001b[1;33m(\u001b[0m\u001b[0max\u001b[0m\u001b[1;33m,\u001b[0m \u001b[1;33m*\u001b[0m\u001b[0margs\u001b[0m\u001b[1;33m,\u001b[0m \u001b[1;33m**\u001b[0m\u001b[0mkwargs\u001b[0m\u001b[1;33m)\u001b[0m\u001b[1;33m\u001b[0m\u001b[1;33m\u001b[0m\u001b[0m\n",
      "\u001b[1;32m~\\AppData\\Local\\Packages\\PythonSoftwareFoundation.Python.3.9_qbz5n2kfra8p0\\LocalCache\\local-packages\\Python39\\site-packages\\matplotlib\\axes\\_axes.py\u001b[0m in \u001b[0;36mviolinplot\u001b[1;34m(self, dataset, positions, vert, widths, showmeans, showextrema, showmedians, quantiles, points, bw_method)\u001b[0m\n\u001b[0;32m   7858\u001b[0m         vpstats = cbook.violin_stats(dataset, _kde_method, points=points,\n\u001b[0;32m   7859\u001b[0m                                      quantiles=quantiles)\n\u001b[1;32m-> 7860\u001b[1;33m         return self.violin(vpstats, positions=positions, vert=vert,\n\u001b[0m\u001b[0;32m   7861\u001b[0m                            \u001b[0mwidths\u001b[0m\u001b[1;33m=\u001b[0m\u001b[0mwidths\u001b[0m\u001b[1;33m,\u001b[0m \u001b[0mshowmeans\u001b[0m\u001b[1;33m=\u001b[0m\u001b[0mshowmeans\u001b[0m\u001b[1;33m,\u001b[0m\u001b[1;33m\u001b[0m\u001b[1;33m\u001b[0m\u001b[0m\n\u001b[0;32m   7862\u001b[0m                            showextrema=showextrema, showmedians=showmedians)\n",
      "\u001b[1;32m~\\AppData\\Local\\Packages\\PythonSoftwareFoundation.Python.3.9_qbz5n2kfra8p0\\LocalCache\\local-packages\\Python39\\site-packages\\matplotlib\\axes\\_axes.py\u001b[0m in \u001b[0;36mviolin\u001b[1;34m(self, vpstats, positions, vert, widths, showmeans, showextrema, showmedians)\u001b[0m\n\u001b[0;32m   7968\u001b[0m             \u001b[0mpositions\u001b[0m \u001b[1;33m=\u001b[0m \u001b[0mrange\u001b[0m\u001b[1;33m(\u001b[0m\u001b[1;36m1\u001b[0m\u001b[1;33m,\u001b[0m \u001b[0mN\u001b[0m \u001b[1;33m+\u001b[0m \u001b[1;36m1\u001b[0m\u001b[1;33m)\u001b[0m\u001b[1;33m\u001b[0m\u001b[1;33m\u001b[0m\u001b[0m\n\u001b[0;32m   7969\u001b[0m         \u001b[1;32melif\u001b[0m \u001b[0mlen\u001b[0m\u001b[1;33m(\u001b[0m\u001b[0mpositions\u001b[0m\u001b[1;33m)\u001b[0m \u001b[1;33m!=\u001b[0m \u001b[0mN\u001b[0m\u001b[1;33m:\u001b[0m\u001b[1;33m\u001b[0m\u001b[1;33m\u001b[0m\u001b[0m\n\u001b[1;32m-> 7970\u001b[1;33m             \u001b[1;32mraise\u001b[0m \u001b[0mValueError\u001b[0m\u001b[1;33m(\u001b[0m\u001b[0mdatashape_message\u001b[0m\u001b[1;33m.\u001b[0m\u001b[0mformat\u001b[0m\u001b[1;33m(\u001b[0m\u001b[1;34m\"positions\"\u001b[0m\u001b[1;33m)\u001b[0m\u001b[1;33m)\u001b[0m\u001b[1;33m\u001b[0m\u001b[1;33m\u001b[0m\u001b[0m\n\u001b[0m\u001b[0;32m   7971\u001b[0m \u001b[1;33m\u001b[0m\u001b[0m\n\u001b[0;32m   7972\u001b[0m         \u001b[1;31m# Validate widths\u001b[0m\u001b[1;33m\u001b[0m\u001b[1;33m\u001b[0m\u001b[1;33m\u001b[0m\u001b[0m\n",
      "\u001b[1;31mValueError\u001b[0m: List of violinplot statistics and `positions` values must have the same length"
     ]
    }
   ]
  },
  {
   "cell_type": "code",
   "execution_count": null,
   "metadata": {},
   "outputs": [],
   "source": []
  }
 ]
}