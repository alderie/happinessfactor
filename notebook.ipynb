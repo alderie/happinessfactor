{
 "metadata": {
  "language_info": {
   "codemirror_mode": {
    "name": "ipython",
    "version": 3
   },
   "file_extension": ".py",
   "mimetype": "text/x-python",
   "name": "python",
   "nbconvert_exporter": "python",
   "pygments_lexer": "ipython3",
   "version": "3.8.2"
  },
  "orig_nbformat": 2,
  "kernelspec": {
   "name": "python382jvsc74a57bd017e8334d13f3fb97a74b5ad2f831a65a53cb5c65fb2a8eaa5cf943231ca7182a",
   "display_name": "Python 3.8.2 64-bit"
  },
  "metadata": {
   "interpreter": {
    "hash": "17e8334d13f3fb97a74b5ad2f831a65a53cb5c65fb2a8eaa5cf943231ca7182a"
   }
  }
 },
 "nbformat": 4,
 "nbformat_minor": 2,
 "cells": [
  {
   "source": [
    "# Finding the Happiness Factor\n",
    "For our CMSC320 class our team did exploratory analysis on the World Happiness Report for 2021 and the World Development Indicators to determine what development factors best correspond with increased happiness across the globe\n",
    "- Project by Victor Novichkov, Jacob Livchitz\n",
    "\n",
    "### Downloading the datasets\n",
    "- Need to have Python installed\n",
    "- Recommended to install the kaggle pip library\n",
    "    - ```pip install kaggle```\n",
    "- Copy the commands listed under the datasets\n",
    "\n",
    "### Datasets Used\n",
    "[World Development Indicators - World Bank](https://datacatalog.worldbank.org/dataset/world-development-indicators) (~200MB at time of writing)\n",
    "- How to download\n",
    "    - Go to the **Data & Resources** tab\n",
    "    - Download the **CSV**\n",
    "\n",
    "[World Happiness Report 2021 - Ajaypal Singh](https://www.kaggle.com/ajaypalsinghlo/world-happiness-report-2021) (155KB at time of writing)\n",
    "- How to download\n",
    "    - ```kaggle datasets download -d ajaypalsinghlo/world-happiness-report-2021```\n"
   ],
   "cell_type": "markdown",
   "metadata": {}
  },
  {
   "source": [
    "## Looking at the Happiest Countries"
   ],
   "cell_type": "markdown",
   "metadata": {}
  },
  {
   "cell_type": "code",
   "execution_count": 34,
   "metadata": {},
   "outputs": [
    {
     "output_type": "stream",
     "name": "stdout",
     "text": [
      "Total Countries with Indices: 166\n"
     ]
    }
   ],
   "source": [
    "import pandas as pd\n",
    "import numpy as np\n",
    "\n",
    "whr_path = './world-happiness-index/whr.csv'\n",
    "wdi_path = './world-development-index/WDIData_trimmed_n.csv'\n",
    "\n",
    "whr_data = pd.read_csv(whr_path)\n",
    "simplified_whr_data = whr_data[['Country Name', 'Life Ladder', 'Year']] # get just the name / score / and year\n",
    "\n",
    "countries = pd.unique(simplified_whr_data['Country Name'])\n",
    "print(\"Total Countries with Indices: {}\".format(len(countries)))\n",
    "\n",
    "wdi_data = pd.read_csv(wdi_path, index_col=0)"
   ]
  },
  {
   "cell_type": "code",
   "execution_count": 36,
   "metadata": {},
   "outputs": [
    {
     "output_type": "stream",
     "name": "stdout",
     "text": [
      "1455    2006\n1456    2008\n1457    2009\n1458    2011\n1459    2012\n1460    2013\n1461    2014\n1462    2015\n1463    2016\n1464    2017\n1465    2018\n1466    2019\nName: Year, dtype: int64\n"
     ]
    }
   ],
   "source": [
    "print(simplified_whr_data[simplified_whr_data['Country Name'] == 'Rwanda']['Year'])"
   ]
  },
  {
   "source": [
    "## Dealing with Too Much Data\n",
    "Although the World Bank dataset is amazing, its size is a bit too much for Github to even accept. In order to be able to collaborate we had to cut how much data we were working with. Luckily, there were a couple methods we could use to cut our dataset in half without drastically influencing our analysis\n",
    "- Get rid of countries in the World Development Index data that don't have corresponding happiness indices\n",
    "- Get rid of majority NaN/Null datapoints (we won't be looking at them in our analysis)\n",
    "    - Note: The World Happiness Index started in 2012, which means most of the data in the World Development Index going back to 1960 isn't entirely relevant. As a result we can look for rows that have at least 20 non null entries (1990-2020)."
   ],
   "cell_type": "markdown",
   "metadata": {}
  },
  {
   "source": [
    "```python\n",
    "# Creating the truncated dataset\n",
    "wdi_data = pd.read_csv(wdi_path)\n",
    "\n",
    "# First by removing countries that don't have indices\n",
    "boolean_mask = wdi_data['Country Name'].isin(countries)\n",
    "wdi_cleaned = wdi_data[boolean_mask]\n",
    "print(\"% of dataset trimmed: {0:.4f}\".format((1 - (len(wdi_cleaned)/len(wdi_data)))*100))\n",
    "\n",
    "# Remove all data from 1960 - 1999 (Most of the data from before the the Happiness Index even existed)\n",
    "wdi_pre_drop = len(wdi_cleaned.columns)\n",
    "wdi_cleaned.drop(axis=1, labels=wdi_cleaned.columns[4:44], inplace=True)\n",
    "print(\"% of dataset trimmed: {0:.4f}\".format((1 - (wdi_pre_drop/len(wdi_cleaned.columns)))*100))\n",
    "\n",
    "# Get rid of all rows that have less than 8 datapoints over the time period from (2000-2020)\n",
    "pre_dropna = len(wdi_cleaned)\n",
    "wdi_cleaned.dropna(axis=0, thresh=8, inplace=True)\n",
    "print(\"% of dataset trimmed: {0:.4f}\".format((1 - (len(wdi_cleaned)/pre_dropna)) * 100))\n",
    "\n",
    "# wdi_cleaned.to_csv('./world-development-index/WDIData_trimmed_n.csv')\n",
    "```"
   ],
   "cell_type": "markdown",
   "metadata": {}
  },
  {
   "source": [
    "Since the original dataset could not be uploaded. We can't show the comparison live\n",
    "\n",
    "But we were able to trim 44.7% of the data just by removing countries without Happiness Indices\n",
    "\n",
    "And trim a further 45.45% of the data by removing the datapoints from (1960 - 1989), leaving only 1990-2020\n",
    "\n",
    "And trim an additional 15.99% of the data, dropping our final file size to ~ 27 MB"
   ],
   "cell_type": "markdown",
   "metadata": {}
  },
  {
   "cell_type": "code",
   "execution_count": 56,
   "metadata": {},
   "outputs": [
    {
     "output_type": "execute_result",
     "data": {
      "text/plain": [
       "        Country Name Country Code  Year  indicator_value  Life Ladder\n",
       "0          Australia          AUS  2005           100.00        7.341\n",
       "1            Belgium          BEL  2005           100.00        7.262\n",
       "2             Brazil          BRA  2005            91.04        6.637\n",
       "3             Canada          CAN  2005           100.00        7.418\n",
       "4     Czech Republic          CZE  2005            95.65        6.439\n",
       "...              ...          ...   ...              ...          ...\n",
       "1685  United Kingdom          GBR  2020              NaN        6.798\n",
       "1686   United States          USA  2020              NaN        7.028\n",
       "1687         Uruguay          URY  2020              NaN        6.310\n",
       "1688          Zambia          ZMB  2020              NaN        4.838\n",
       "1689        Zimbabwe          ZWE  2020              NaN        3.160\n",
       "\n",
       "[1690 rows x 5 columns]"
      ],
      "text/html": "<div>\n<style scoped>\n    .dataframe tbody tr th:only-of-type {\n        vertical-align: middle;\n    }\n\n    .dataframe tbody tr th {\n        vertical-align: top;\n    }\n\n    .dataframe thead th {\n        text-align: right;\n    }\n</style>\n<table border=\"1\" class=\"dataframe\">\n  <thead>\n    <tr style=\"text-align: right;\">\n      <th></th>\n      <th>Country Name</th>\n      <th>Country Code</th>\n      <th>Year</th>\n      <th>indicator_value</th>\n      <th>Life Ladder</th>\n    </tr>\n  </thead>\n  <tbody>\n    <tr>\n      <th>0</th>\n      <td>Australia</td>\n      <td>AUS</td>\n      <td>2005</td>\n      <td>100.00</td>\n      <td>7.341</td>\n    </tr>\n    <tr>\n      <th>1</th>\n      <td>Belgium</td>\n      <td>BEL</td>\n      <td>2005</td>\n      <td>100.00</td>\n      <td>7.262</td>\n    </tr>\n    <tr>\n      <th>2</th>\n      <td>Brazil</td>\n      <td>BRA</td>\n      <td>2005</td>\n      <td>91.04</td>\n      <td>6.637</td>\n    </tr>\n    <tr>\n      <th>3</th>\n      <td>Canada</td>\n      <td>CAN</td>\n      <td>2005</td>\n      <td>100.00</td>\n      <td>7.418</td>\n    </tr>\n    <tr>\n      <th>4</th>\n      <td>Czech Republic</td>\n      <td>CZE</td>\n      <td>2005</td>\n      <td>95.65</td>\n      <td>6.439</td>\n    </tr>\n    <tr>\n      <th>...</th>\n      <td>...</td>\n      <td>...</td>\n      <td>...</td>\n      <td>...</td>\n      <td>...</td>\n    </tr>\n    <tr>\n      <th>1685</th>\n      <td>United Kingdom</td>\n      <td>GBR</td>\n      <td>2020</td>\n      <td>NaN</td>\n      <td>6.798</td>\n    </tr>\n    <tr>\n      <th>1686</th>\n      <td>United States</td>\n      <td>USA</td>\n      <td>2020</td>\n      <td>NaN</td>\n      <td>7.028</td>\n    </tr>\n    <tr>\n      <th>1687</th>\n      <td>Uruguay</td>\n      <td>URY</td>\n      <td>2020</td>\n      <td>NaN</td>\n      <td>6.310</td>\n    </tr>\n    <tr>\n      <th>1688</th>\n      <td>Zambia</td>\n      <td>ZMB</td>\n      <td>2020</td>\n      <td>NaN</td>\n      <td>4.838</td>\n    </tr>\n    <tr>\n      <th>1689</th>\n      <td>Zimbabwe</td>\n      <td>ZWE</td>\n      <td>2020</td>\n      <td>NaN</td>\n      <td>3.160</td>\n    </tr>\n  </tbody>\n</table>\n<p>1690 rows × 5 columns</p>\n</div>"
     },
     "metadata": {},
     "execution_count": 56
    }
   ],
   "source": [
    "sample_code = \"EG.CFT.ACCS.ZS\"\n",
    "\n",
    "# Gets Country Name, Country Code, Year, Indicator Value, Score\n",
    "def getAllForIndicator(df, hi, indicator_code):\n",
    "    \n",
    "    countries = df[df['Indicator Code'] == indicator_code].copy()\n",
    "    countries.drop(axis=1, labels=['Indicator Name', 'Indicator Code'], inplace=True)\n",
    "    countries = pd.melt(countries, id_vars=['Country Name', 'Country Code'], var_name='Year', value_name='indicator_value')\n",
    "    countries = countries.astype({'Year': np.int64})\n",
    "\n",
    "    return countries.merge(hi, how='inner', on=['Country Name', 'Year'])\n",
    "\n",
    "getAllForIndicator(wdi_data, simplified_whr_data, sample_code)\n"
   ]
  },
  {
   "source": [
    "#When one thinks of happiness they think of money. Lets first graph the WHR dataset's graph of national income per capita vs happiness\n",
    "incomePerCap=pd.DataFrame(columns=['Country','Year','IPC'])\n",
    "yearsValid=wdi_data.columns\n",
    "print(yearsValid)\n",
    "yearsValid=yearsValid[4:len(yearsValid)-1]\n",
    "#print(incomePerCap)\n",
    "for x, rowX in wdi_data.iterrows():\n",
    "    if rowX['Indicator Name']=='Adjusted net national income per capita (current US$)':\n",
    "        for year in yearsValid:\n",
    "            name=str(rowX['Country Name'])\n",
    "            yearFinal=int(year)\n",
    "            if wdi_data.loc[x,year] == np.NaN:\n",
    "                ipcFinal=np.NaN\n",
    "            else:\n",
    "                ipcFinal=float(wdi_data.loc[x,year])\n",
    "            incomePerCap=incomePerCap.append({'Country':name,'year':yearFinal,'IPC':ipcFinal},ignore_index=True)\n",
    "#print(simplified_whr_data)\n",
    "incomePerCap=incomePerCap.dropna()\n",
    "print((incomePerCap.columns))\n",
    "print((simplified_whr_data.columns))\n",
    "\n",
    "#Whats bellow WORKS. its just that the condition year==year will never be matched because the data does not overlap at all!\n",
    "\n",
    "whrIPC=pd.DataFrame(columns=['Country','Year','Score','IPC'])\n",
    "print(len(whrIPC))\n",
    "\n",
    "for x, rowX in incomePerCap.iterrows():\n",
    "    for y,rowY in simplified_whr_data.iterrows():\n",
    "        if rowX['Country']==rowY['Country Name'] and rowX['year']==rowY['year']:\n",
    "            name=str(rowX['Country'])\n",
    "            yearFinal=int(rowX['year'])\n",
    "            ipcFinal=float(rowX['IPC'])\n",
    "            score=float(rowY['Life Ladder'])\n",
    "            whrIPC = whrIPC.append({'Country':name,'year':yearFinal,'Score':score,'IPC':ipcFinal},ignore_index=True)\n",
    "print(whrIPC.head(100))\n",
    "\n",
    "ax=incomePerCap.plot.scatter(x='year',xlabel='year',y='IPC',ylabel='income per capita',rot=90,color='b',title='year vs income per cap.')\n",
    "simplified_whr_data.plot.scatter(x='year',xlabel='year',y='Life Ladder',ylabel='Happy Score',rot=90,color='r',title='happiness vs time',ax=ax)\n"
   ],
   "cell_type": "code",
   "metadata": {
    "tags": []
   },
   "execution_count": null,
   "outputs": []
  },
  {
   "cell_type": "code",
   "execution_count": null,
   "metadata": {},
   "outputs": [],
   "source": []
  }
 ]
}