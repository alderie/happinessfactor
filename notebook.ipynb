{
 "metadata": {
  "language_info": {
   "codemirror_mode": {
    "name": "ipython",
    "version": 3
   },
   "file_extension": ".py",
   "mimetype": "text/x-python",
   "name": "python",
   "nbconvert_exporter": "python",
   "pygments_lexer": "ipython3",
   "version": "3.8.2"
  },
  "orig_nbformat": 2,
  "kernelspec": {
   "name": "python382jvsc74a57bd017e8334d13f3fb97a74b5ad2f831a65a53cb5c65fb2a8eaa5cf943231ca7182a",
   "display_name": "Python 3.8.2 64-bit"
  },
  "metadata": {
   "interpreter": {
    "hash": "17e8334d13f3fb97a74b5ad2f831a65a53cb5c65fb2a8eaa5cf943231ca7182a"
   }
  }
 },
 "nbformat": 4,
 "nbformat_minor": 2,
 "cells": [
  {
   "source": [
    "# Finding the Happiness Factor\n",
    "For our CMSC320 class our team did exploratory analysis on the World Happiness Report for 2021 and the World Development Indicators to determine what development factors best correspond with increased happiness across the globe\n",
    "- Project by Victor Novichkov, Jacob Livchitz\n",
    "\n",
    "### Downloading the datasets\n",
    "- Need to have Python installed\n",
    "- Recommended to install the kaggle pip library\n",
    "    - ```pip install kaggle```\n",
    "- Copy the commands listed under the datasets\n",
    "\n",
    "### Datasets Used\n",
    "[World Development Indicators - World Bank](https://datacatalog.worldbank.org/dataset/world-development-indicators) (~200MB at time of writing)\n",
    "- How to download\n",
    "    - Go to the **Data & Resources** tab\n",
    "    - Download the **CSV**\n",
    "\n",
    "[World Happiness Report 2021 - Ajaypal Singh](https://www.kaggle.com/ajaypalsinghlo/world-happiness-report-2021) (155KB at time of writing)\n",
    "- How to download\n",
    "    - ```kaggle datasets download -d ajaypalsinghlo/world-happiness-report-2021```\n"
   ],
   "cell_type": "markdown",
   "metadata": {}
  },
  {
   "source": [
    "## Looking at the Happiest Countries"
   ],
   "cell_type": "markdown",
   "metadata": {}
  },
  {
   "cell_type": "code",
   "execution_count": 78,
   "metadata": {},
   "outputs": [
    {
     "output_type": "stream",
     "name": "stdout",
     "text": [
      "Total Countries with Indices: 166\n['Afghanistan' 'Albania' 'Algeria' 'Angola' 'Argentina' 'Armenia'\n 'Australia' 'Austria' 'Azerbaijan' 'Bahrain' 'Bangladesh' 'Belarus'\n 'Belgium' 'Belize' 'Benin' 'Bhutan' 'Bolivia' 'Bosnia and Herzegovina'\n 'Botswana' 'Brazil' 'Bulgaria' 'Burkina Faso' 'Burundi' 'Cambodia'\n 'Cameroon' 'Canada' 'Central African Republic' 'Chad' 'Chile' 'China'\n 'Colombia' 'Comoros' 'Congo (Brazzaville)' 'Congo (Kinshasa)'\n 'Costa Rica' 'Croatia' 'Cuba' 'Cyprus' 'Czech Republic' 'Denmark'\n 'Djibouti' 'Dominican Republic' 'Ecuador' 'Egypt' 'El Salvador' 'Estonia'\n 'Ethiopia' 'Finland' 'France' 'Gabon' 'Gambia' 'Georgia' 'Germany'\n 'Ghana' 'Greece' 'Guatemala' 'Guinea' 'Guyana' 'Haiti' 'Honduras'\n 'Hong Kong S.A.R. of China' 'Hungary' 'Iceland' 'India' 'Indonesia'\n 'Iran' 'Iraq' 'Ireland' 'Israel' 'Italy' 'Ivory Coast' 'Jamaica' 'Japan'\n 'Jordan' 'Kazakhstan' 'Kenya' 'Kosovo' 'Kuwait' 'Kyrgyzstan' 'Laos'\n 'Latvia' 'Lebanon' 'Lesotho' 'Liberia' 'Libya' 'Lithuania' 'Luxembourg'\n 'Madagascar' 'Malawi' 'Malaysia' 'Maldives' 'Mali' 'Malta' 'Mauritania'\n 'Mauritius' 'Mexico' 'Moldova' 'Mongolia' 'Montenegro' 'Morocco'\n 'Mozambique' 'Myanmar' 'Namibia' 'Nepal' 'Netherlands' 'New Zealand'\n 'Nicaragua' 'Niger' 'Nigeria' 'North Cyprus' 'North Macedonia' 'Norway'\n 'Oman' 'Pakistan' 'Palestinian Territories' 'Panama' 'Paraguay' 'Peru'\n 'Philippines' 'Poland' 'Portugal' 'Qatar' 'Romania' 'Russia' 'Rwanda'\n 'Saudi Arabia' 'Senegal' 'Serbia' 'Sierra Leone' 'Singapore' 'Slovakia'\n 'Slovenia' 'Somalia' 'Somaliland region' 'South Africa' 'South Korea'\n 'South Sudan' 'Spain' 'Sri Lanka' 'Sudan' 'Suriname' 'Swaziland' 'Sweden'\n 'Switzerland' 'Syria' 'Taiwan Province of China' 'Tajikistan' 'Tanzania'\n 'Thailand' 'Togo' 'Trinidad and Tobago' 'Tunisia' 'Turkey' 'Turkmenistan'\n 'Uganda' 'Ukraine' 'United Arab Emirates' 'United Kingdom'\n 'United States' 'Uruguay' 'Uzbekistan' 'Venezuela' 'Vietnam' 'Yemen'\n 'Zambia' 'Zimbabwe']\n"
     ]
    }
   ],
   "source": [
    "import pandas as pd\n",
    "import numpy as np\n",
    "\n",
    "whr_path = './world-happiness-index/whr.csv'\n",
    "wdi_path = './world-development-index/WDIData_trimmed_n.csv'\n",
    "\n",
    "whr_data = pd.read_csv(whr_path)\n",
    "simplified_whr_data = whr_data[['Country name', 'Life Ladder', 'year']] # get just the name / score / and year\n",
    "\n",
    "countries = pd.unique(simplified_whr_data['Country name'])\n",
    "print(\"Total Countries with Indices: {}\".format(len(countries)))\n",
    "print(countries)\n"
   ]
  },
  {
   "cell_type": "code",
   "execution_count": 79,
   "metadata": {},
   "outputs": [
    {
     "output_type": "stream",
     "name": "stdout",
     "text": [
      "1455    2006\n1456    2008\n1457    2009\n1458    2011\n1459    2012\n1460    2013\n1461    2014\n1462    2015\n1463    2016\n1464    2017\n1465    2018\n1466    2019\nName: year, dtype: int64\n"
     ]
    }
   ],
   "source": [
    "print(simplified_whr_data[simplified_whr_data['Country name'] == 'Rwanda']['year'])"
   ]
  },
  {
   "source": [
    "## Dealing with Too Much Data\n",
    "Although the World Bank dataset is amazing, its size is a bit too much for Github to even accept. In order to be able to collaborate we had to cut how much data we were working with. Luckily, there were a couple methods we could use to cut our dataset in half without drastically influencing our analysis\n",
    "- Get rid of countries in the World Development Index data that don't have corresponding happiness indices\n",
    "- Get rid of majority NaN/Null datapoints (we won't be looking at them in our analysis)\n",
    "> Note: The World Happiness Index started in 2012, which means most of the data in the World Development Index going back to 1960 isn't entirely relevant. As a result we can look for rows that have at least 20 non null entries (1990-2020)."
   ],
   "cell_type": "markdown",
   "metadata": {}
  },
  {
   "source": [
    "\n",
    "# Creating the truncated dataset\n",
    "wdi_data = pd.read_csv(wdi_path, index_col=0)\n",
    "wdi_data.head()\n",
    "\n",
    "# First by removing countries that don't have indices\n",
    "boolean_mask = wdi_data['Country Name'].isin(countries)\n",
    "wdi_filtered_data = wdi_data[boolean_mask]\n",
    "print(\"% of dataset trimmed: {0:.4f}\".format((1 - (len(wdi_filtered_data)/len(wdi_data)))*100))\n",
    "\n",
    "# Remove all data from 1960 - 1990 (Most of the data from before the the Happiness Index even existed)\n",
    "wdi_time_adjusted = wdi_filtered_data.drop(axis=1, labels=wdi_cleaned.columns[4:34])\n",
    "print(\"% of dataset trimmed: {0:.4f}\".format((1 - (len(wdi_time_adjusted.columns)/len(wdi_filtered_data.columns)))*100))\n",
    "\n",
    "# Get rid of all rows that have less than 5 datapoints over the time period from (1990-2020)\n",
    "wdi_cleaned = wdi_time_adjusted.dropna(axis=0, thresh=5)\n",
    "print(\"% of dataset trimmed: {0:.4f}\".format((1 - (len(wdi_cleaned)/len(wdi_time_adjusted))) * 100))\n",
    "\n",
    "# wdi_cleaned.to_csv('./world-development-index/WDIData_trimmed_n.csv')\n"
   ],
   "cell_type": "code",
   "metadata": {},
   "execution_count": 81,
   "outputs": [
    {
     "output_type": "stream",
     "name": "stdout",
     "text": [
      "% of dataset trimmed: 0.0000\n% of dataset trimmed: 5.5556\n% of dataset trimmed: 3.8238\n"
     ]
    }
   ]
  },
  {
   "source": [
    "Since the original dataset could not be uploaded. We can't show the comparison live\n",
    "\n",
    "But we were able to trim 44.7% of the data just by removing countries without Happiness Indices\n",
    "\n",
    "And trim a further 45.45% of the data by removing the datapoints from (1960 - 1989), leaving only 1990-2020\n",
    "\n",
    "And trim an additional 15.99% of the data, dropping our final file size to ~ 27 MB"
   ],
   "cell_type": "markdown",
   "metadata": {}
  },
  {
   "cell_type": "code",
   "execution_count": null,
   "metadata": {},
   "outputs": [],
   "source": []
  }
 ]
}