{
 "metadata": {
  "language_info": {
   "codemirror_mode": {
    "name": "ipython",
    "version": 3
   },
   "file_extension": ".py",
   "mimetype": "text/x-python",
   "name": "python",
   "nbconvert_exporter": "python",
   "pygments_lexer": "ipython3",
   "version": "3.8.2"
  },
  "orig_nbformat": 2,
  "kernelspec": {
   "name": "python382jvsc74a57bd017e8334d13f3fb97a74b5ad2f831a65a53cb5c65fb2a8eaa5cf943231ca7182a",
   "display_name": "Python 3.8.2 64-bit"
  },
  "metadata": {
   "interpreter": {
    "hash": "17e8334d13f3fb97a74b5ad2f831a65a53cb5c65fb2a8eaa5cf943231ca7182a"
   }
  }
 },
 "nbformat": 4,
 "nbformat_minor": 2,
 "cells": [
  {
   "source": [
    "# Finding the Happiness Factor\n",
    "For our CMSC320 class our team did exploratory analysis on the World Happiness Report for 2021 and the World Development Indicators to determine what development factors best correspond with increased happiness across the globe\n",
    "- Project by Victor Novichkov, Jacob Livchitz\n",
    "\n",
    "### Downloading the datasets\n",
    "- Need to have Python installed\n",
    "- Recommended to install the kaggle pip library\n",
    "    - ```pip install kaggle```\n",
    "- Copy the commands listed under the datasets\n",
    "\n",
    "### Datasets Used\n",
    "[World Development Indicators - World Bank](https://datacatalog.worldbank.org/dataset/world-development-indicators) (~200MB at time of writing)\n",
    "- How to download\n",
    "    - Go to the **Data & Resources** tab\n",
    "    - Download the **CSV**\n",
    "\n",
    "[World Happiness Report 2021 - Ajaypal Singh](https://www.kaggle.com/ajaypalsinghlo/world-happiness-report-2021) (155KB at time of writing)\n",
    "- How to download\n",
    "    - ```kaggle datasets download -d ajaypalsinghlo/world-happiness-report-2021```\n"
   ],
   "cell_type": "markdown",
   "metadata": {}
  },
  {
   "source": [
    "## Looking at the Happiest Countries"
   ],
   "cell_type": "markdown",
   "metadata": {}
  },
  {
   "cell_type": "code",
   "execution_count": 27,
   "metadata": {},
   "outputs": [
    {
     "output_type": "stream",
     "name": "stdout",
     "text": [
      "Total Countries with Indices: 166\n['Afghanistan' 'Albania' 'Algeria' 'Angola' 'Argentina' 'Armenia'\n 'Australia' 'Austria' 'Azerbaijan' 'Bahrain' 'Bangladesh' 'Belarus'\n 'Belgium' 'Belize' 'Benin' 'Bhutan' 'Bolivia' 'Bosnia and Herzegovina'\n 'Botswana' 'Brazil' 'Bulgaria' 'Burkina Faso' 'Burundi' 'Cambodia'\n 'Cameroon' 'Canada' 'Central African Republic' 'Chad' 'Chile' 'China'\n 'Colombia' 'Comoros' 'Congo (Brazzaville)' 'Congo (Kinshasa)'\n 'Costa Rica' 'Croatia' 'Cuba' 'Cyprus' 'Czech Republic' 'Denmark'\n 'Djibouti' 'Dominican Republic' 'Ecuador' 'Egypt' 'El Salvador' 'Estonia'\n 'Ethiopia' 'Finland' 'France' 'Gabon' 'Gambia' 'Georgia' 'Germany'\n 'Ghana' 'Greece' 'Guatemala' 'Guinea' 'Guyana' 'Haiti' 'Honduras'\n 'Hong Kong S.A.R. of China' 'Hungary' 'Iceland' 'India' 'Indonesia'\n 'Iran' 'Iraq' 'Ireland' 'Israel' 'Italy' 'Ivory Coast' 'Jamaica' 'Japan'\n 'Jordan' 'Kazakhstan' 'Kenya' 'Kosovo' 'Kuwait' 'Kyrgyzstan' 'Laos'\n 'Latvia' 'Lebanon' 'Lesotho' 'Liberia' 'Libya' 'Lithuania' 'Luxembourg'\n 'Madagascar' 'Malawi' 'Malaysia' 'Maldives' 'Mali' 'Malta' 'Mauritania'\n 'Mauritius' 'Mexico' 'Moldova' 'Mongolia' 'Montenegro' 'Morocco'\n 'Mozambique' 'Myanmar' 'Namibia' 'Nepal' 'Netherlands' 'New Zealand'\n 'Nicaragua' 'Niger' 'Nigeria' 'North Cyprus' 'North Macedonia' 'Norway'\n 'Oman' 'Pakistan' 'Palestinian Territories' 'Panama' 'Paraguay' 'Peru'\n 'Philippines' 'Poland' 'Portugal' 'Qatar' 'Romania' 'Russia' 'Rwanda'\n 'Saudi Arabia' 'Senegal' 'Serbia' 'Sierra Leone' 'Singapore' 'Slovakia'\n 'Slovenia' 'Somalia' 'Somaliland region' 'South Africa' 'South Korea'\n 'South Sudan' 'Spain' 'Sri Lanka' 'Sudan' 'Suriname' 'Swaziland' 'Sweden'\n 'Switzerland' 'Syria' 'Taiwan Province of China' 'Tajikistan' 'Tanzania'\n 'Thailand' 'Togo' 'Trinidad and Tobago' 'Tunisia' 'Turkey' 'Turkmenistan'\n 'Uganda' 'Ukraine' 'United Arab Emirates' 'United Kingdom'\n 'United States' 'Uruguay' 'Uzbekistan' 'Venezuela' 'Vietnam' 'Yemen'\n 'Zambia' 'Zimbabwe']\n"
     ]
    }
   ],
   "source": [
    "import pandas as pd\n",
    "import numpy as np\n",
    "\n",
    "whr_path = './world-happiness-index/whr.csv'\n",
    "wdi_path = './world-development-index/WDIData_trimmed_n.csv'\n",
    "\n",
    "whr_data = pd.read_csv(whr_path)\n",
    "simplified_whr_data = whr_data[['Country name', 'Life Ladder', 'year']] # get just the name / score / and year\n",
    "\n",
    "countries = pd.unique(simplified_whr_data['Country name'])\n",
    "print(\"Total Countries with Indices: {}\".format(len(countries)))\n",
    "print(countries)\n",
    "wdi_data = pd.read_csv(wdi_path, index_col=0)\n",
    "\n"
   ]
  },
  {
   "cell_type": "code",
   "execution_count": 28,
   "metadata": {},
   "outputs": [
    {
     "output_type": "stream",
     "name": "stdout",
     "text": [
      "1455    2006\n1456    2008\n1457    2009\n1458    2011\n1459    2012\n1460    2013\n1461    2014\n1462    2015\n1463    2016\n1464    2017\n1465    2018\n1466    2019\nName: year, dtype: int64\n"
     ]
    }
   ],
   "source": [
    "print(simplified_whr_data[simplified_whr_data['Country name'] == 'Rwanda']['year'])"
   ]
  },
  {
   "source": [
    "## Dealing with Too Much Data\n",
    "Although the World Bank dataset is amazing, its size is a bit too much for Github to even accept. In order to be able to collaborate we had to cut how much data we were working with. Luckily, there were a couple methods we could use to cut our dataset in half without drastically influencing our analysis\n",
    "- Get rid of countries in the World Development Index data that don't have corresponding happiness indices\n",
    "- Get rid of majority NaN/Null datapoints (we won't be looking at them in our analysis)\n",
    "> Note: The World Happiness Index started in 2012, which means most of the data in the World Development Index going back to 1960 isn't entirely relevant. As a result we can look for rows that have at least 20 non null entries (1990-2020)."
   ],
   "cell_type": "markdown",
   "metadata": {}
  },
  {
   "source": [
    "```python\n",
    "# Creating the truncated dataset\n",
    "wdi_data = pd.read_csv(wdi_path)\n",
    "\n",
    "# First by removing countries that don't have indices\n",
    "boolean_mask = wdi_data['Country Name'].isin(countries)\n",
    "wdi_cleaned = wdi_data[boolean_mask]\n",
    "print(\"% of dataset trimmed: {0:.4f}\".format((1 - (len(wdi_cleaned)/len(wdi_data)))*100))\n",
    "\n",
    "# Remove all data from 1960 - 1999 (Most of the data from before the the Happiness Index even existed)\n",
    "wdi_pre_drop = len(wdi_cleaned.columns)\n",
    "wdi_cleaned.drop(axis=1, labels=wdi_cleaned.columns[4:44], inplace=True)\n",
    "print(\"% of dataset trimmed: {0:.4f}\".format((1 - (wdi_pre_drop/len(wdi_cleaned.columns)))*100))\n",
    "\n",
    "# Get rid of all rows that have less than 8 datapoints over the time period from (2000-2020)\n",
    "pre_dropna = len(wdi_cleaned)\n",
    "wdi_cleaned.dropna(axis=0, thresh=8, inplace=True)\n",
    "print(\"% of dataset trimmed: {0:.4f}\".format((1 - (len(wdi_cleaned)/pre_dropna)) * 100))\n",
    "\n",
    "# wdi_cleaned.to_csv('./world-development-index/WDIData_trimmed_n.csv')\n",
    "```"
   ],
   "cell_type": "markdown",
   "metadata": {}
  },
  {
   "source": [
    "Since the original dataset could not be uploaded. We can't show the comparison live\n",
    "\n",
    "But we were able to trim 44.7% of the data just by removing countries without Happiness Indices\n",
    "\n",
    "And trim a further 45.45% of the data by removing the datapoints from (1960 - 1989), leaving only 1990-2020\n",
    "\n",
    "And trim an additional 15.99% of the data, dropping our final file size to ~ 27 MB"
   ],
   "cell_type": "markdown",
   "metadata": {}
  },
  {
   "cell_type": "code",
   "execution_count": 30,
   "metadata": {
    "tags": []
   },
   "outputs": [
    {
     "output_type": "stream",
     "name": "stdout",
     "text": [
      "Index(['Country Name', 'Country Code', 'Indicator Name', 'Indicator Code',\n",
      "       '2000', '2001', '2002', '2003', '2004', '2005', '2006', '2007', '2008',\n",
      "       '2009', '2010', '2011', '2012', '2013', '2014', '2015', '2016', '2017',\n",
      "       '2018', '2019', '2020', 'Unnamed: 65'],\n",
      "      dtype='object')\n",
      "Index(['Country', 'year', 'IPC'], dtype='object')\n",
      "Index(['Country name', 'Life Ladder', 'year'], dtype='object')\n",
      "0\n"
     ]
    },
    {
     "output_type": "error",
     "ename": "KeyboardInterrupt",
     "evalue": "",
     "traceback": [
      "\u001b[1;31m---------------------------------------------------------------------------\u001b[0m",
      "\u001b[1;31mKeyboardInterrupt\u001b[0m                         Traceback (most recent call last)",
      "\u001b[1;32m<ipython-input-30-65421c63b196>\u001b[0m in \u001b[0;36m<module>\u001b[1;34m\u001b[0m\n\u001b[0;32m     27\u001b[0m \u001b[1;32mfor\u001b[0m \u001b[0mx\u001b[0m\u001b[1;33m,\u001b[0m \u001b[0mrowX\u001b[0m \u001b[1;32min\u001b[0m \u001b[0mincomePerCap\u001b[0m\u001b[1;33m.\u001b[0m\u001b[0miterrows\u001b[0m\u001b[1;33m(\u001b[0m\u001b[1;33m)\u001b[0m\u001b[1;33m:\u001b[0m\u001b[1;33m\u001b[0m\u001b[1;33m\u001b[0m\u001b[0m\n\u001b[0;32m     28\u001b[0m     \u001b[1;32mfor\u001b[0m \u001b[0my\u001b[0m\u001b[1;33m,\u001b[0m\u001b[0mrowY\u001b[0m \u001b[1;32min\u001b[0m \u001b[0msimplified_whr_data\u001b[0m\u001b[1;33m.\u001b[0m\u001b[0miterrows\u001b[0m\u001b[1;33m(\u001b[0m\u001b[1;33m)\u001b[0m\u001b[1;33m:\u001b[0m\u001b[1;33m\u001b[0m\u001b[1;33m\u001b[0m\u001b[0m\n\u001b[1;32m---> 29\u001b[1;33m         \u001b[1;32mif\u001b[0m \u001b[0mrowX\u001b[0m\u001b[1;33m[\u001b[0m\u001b[1;34m'Country'\u001b[0m\u001b[1;33m]\u001b[0m\u001b[1;33m==\u001b[0m\u001b[0mrowY\u001b[0m\u001b[1;33m[\u001b[0m\u001b[1;34m'Country name'\u001b[0m\u001b[1;33m]\u001b[0m \u001b[1;32mand\u001b[0m \u001b[0mrowX\u001b[0m\u001b[1;33m[\u001b[0m\u001b[1;34m'year'\u001b[0m\u001b[1;33m]\u001b[0m\u001b[1;33m==\u001b[0m\u001b[0mrowY\u001b[0m\u001b[1;33m[\u001b[0m\u001b[1;34m'year'\u001b[0m\u001b[1;33m]\u001b[0m\u001b[1;33m:\u001b[0m\u001b[1;33m\u001b[0m\u001b[1;33m\u001b[0m\u001b[0m\n\u001b[0m\u001b[0;32m     30\u001b[0m             \u001b[0mname\u001b[0m\u001b[1;33m=\u001b[0m\u001b[0mstr\u001b[0m\u001b[1;33m(\u001b[0m\u001b[0mrowX\u001b[0m\u001b[1;33m[\u001b[0m\u001b[1;34m'Country'\u001b[0m\u001b[1;33m]\u001b[0m\u001b[1;33m)\u001b[0m\u001b[1;33m\u001b[0m\u001b[1;33m\u001b[0m\u001b[0m\n\u001b[0;32m     31\u001b[0m             \u001b[0myearFinal\u001b[0m\u001b[1;33m=\u001b[0m\u001b[0mint\u001b[0m\u001b[1;33m(\u001b[0m\u001b[0mrowX\u001b[0m\u001b[1;33m[\u001b[0m\u001b[1;34m'year'\u001b[0m\u001b[1;33m]\u001b[0m\u001b[1;33m)\u001b[0m\u001b[1;33m\u001b[0m\u001b[1;33m\u001b[0m\u001b[0m\n",
      "\u001b[1;31mKeyboardInterrupt\u001b[0m: "
     ]
    }
   ],
   "source": [
    "#When one thinks of happiness they think of money. Lets first graph the WHR dataset's graph of national income per capita vs happiness\n",
    "incomePerCap=pd.DataFrame(columns=['Country','year','IPC'])\n",
    "yearsValid=wdi_data.columns\n",
    "print(yearsValid)\n",
    "yearsValid=yearsValid[4:len(yearsValid)-1]\n",
    "#print(incomePerCap)\n",
    "for x, rowX in wdi_data.iterrows():\n",
    "    if rowX['Indicator Name']=='Adjusted net national income per capita (current US$)':\n",
    "        for year in yearsValid:\n",
    "            name=str(rowX['Country Name'])\n",
    "            yearFinal=int(year)\n",
    "            if wdi_data.loc[x,year] == np.NaN:\n",
    "                ipcFinal=np.NaN\n",
    "            else:\n",
    "                ipcFinal=float(wdi_data.loc[x,year])\n",
    "            incomePerCap=incomePerCap.append({'Country':name,'year':yearFinal,'IPC':ipcFinal},ignore_index=True)\n",
    "#print(simplified_whr_data)\n",
    "incomePerCap=incomePerCap.dropna()\n",
    "print((incomePerCap.columns))\n",
    "print((simplified_whr_data.columns))\n",
    "\n",
    "#Whats bellow WORKS. its just that the condition year==year will never be matched because the data does not overlap at all!\n",
    "\n",
    "whrIPC=pd.DataFrame(columns=['Country','year','Score','IPC'])\n",
    "print(len(whrIPC))\n",
    "\n",
    "for x, rowX in incomePerCap.iterrows():\n",
    "    for y,rowY in simplified_whr_data.iterrows():\n",
    "        if rowX['Country']==rowY['Country name'] and rowX['year']==rowY['year']:\n",
    "            name=str(rowX['Country'])\n",
    "            yearFinal=int(rowX['year'])\n",
    "            ipcFinal=float(rowX['IPC'])\n",
    "            score=float(rowY['Life Ladder'])\n",
    "            whrIPC = whrIPC.append({'Country':name,'year':yearFinal,'Score':score,'IPC':ipcFinal},ignore_index=True)\n",
    "print(whrIPC.head(100))\n",
    "\n",
    "ax=incomePerCap.plot.scatter(x='year',xlabel='year',y='IPC',ylabel='income per capita',rot=90,color='b',title='year vs income per cap.')\n",
    "simplified_whr_data.plot.scatter(x='year',xlabel='year',y='Life Ladder',ylabel='Happy Score',rot=90,color='r',title='happiness vs time',ax=ax)\n"
   ]
  },
  {
   "cell_type": "code",
   "execution_count": null,
   "metadata": {},
   "outputs": [],
   "source": []
  }
 ]
}